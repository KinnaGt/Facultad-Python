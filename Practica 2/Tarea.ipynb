{
 "cells": [
  {
   "cell_type": "markdown",
   "metadata": {},
   "source": [
    "# Practica 2\n",
    "\n",
    "\n",
    "### Enunciado elegido\n",
    "\n",
    "> 10\\. Trabajando con los contenidos de los archivos que pueden acceder en el curso:\n",
    ">\n",
    "> - nombres\n",
    "> - eval1\n",
    "> - eval2\n",
    ">\n",
    "> Manipule estos archivos para realizar lo siguiente:\n",
    ">\n",
    "> - Generar una estructura con los nombres de los estudiantes y la suma de ambas notas.\n",
    "> - Calcular el promedio de las notas totales e informar que alumnos obtuvieron menos que el promedio.\n",
    "\n",
    "### Resolución\n",
    "\n",
    "1 - Como primer paso decidi generar una función que retorne una estructura de datos mas adecuada para trabajar, en este caso decidí una lista de tuplas dado que los nombres se pueden repetir y en un diccionario,como lo habia hecho en un principio, podia sobreescribir notas en diferentes alumnos"
   ]
  },
  {
   "cell_type": "code",
   "execution_count": 1,
   "metadata": {},
   "outputs": [],
   "source": [
    "def armarEstructura():\n",
    "    nombres = open('nombres_1.txt', 'r', encoding='utf-8')\n",
    "    ev1 = open('eval1.txt', 'r')\n",
    "    ev2 = open('eval2.txt', 'r')\n",
    "    arrAlumnos = []\n",
    "\n",
    "    for x in nombres:\n",
    "        suma_de_notas = int(ev1.readline().replace(',', '')) + \\\n",
    "            int(ev2.readline().replace(',', ''))\n",
    "        arrAlumnos.append(\n",
    "            (x.replace('\\n', ''), suma_de_notas))\n",
    "\n",
    "    ev1.close()\n",
    "    ev2.close()\n",
    "    nombres.close()\n",
    "\n",
    "    return arrAlumnos"
   ]
  },
  {
   "cell_type": "markdown",
   "metadata": {},
   "source": [
    "Decidí implementarlo de esta forma asi me deshago de volver a abrir los documentos, además utilizo replace para pasar a limpio los nombres"
   ]
  },
  {
   "cell_type": "markdown",
   "metadata": {},
   "source": [
    "2 - Otra de las funciones utilizadas fue sacar el promedio de un array de alumnos, al saber que en la posicion 1 estan los valores fui obteniendo para retornar el promedio de todos"
   ]
  },
  {
   "cell_type": "code",
   "execution_count": 2,
   "metadata": {},
   "outputs": [],
   "source": [
    "def sacarPromedio(arrAlumnos):\n",
    "    prom = 0\n",
    "    for i in arrAlumnos:\n",
    "        prom += i[1]\n",
    "    prom = prom / len(arrAlumnos)\n",
    "    return prom"
   ]
  },
  {
   "cell_type": "markdown",
   "metadata": {},
   "source": [
    "3 - Por último creé un módulo con la finalidad de imprimir en pantalla todos aquellos alumnos que no superaron el promedio"
   ]
  },
  {
   "cell_type": "code",
   "execution_count": null,
   "metadata": {},
   "outputs": [],
   "source": [
    "def printearMenoresAlPromedio(arrAlumnos,prom):\n",
    "    print('Alumnos con notas menor al promedio : ')\n",
    "    for value in arrAlumnos:\n",
    "        if(value[1] < prom):\n",
    "            print(value[0].replace(',', '').replace('\\'', ''))"
   ]
  },
  {
   "cell_type": "markdown",
   "metadata": {},
   "source": [
    "4 - Ya con la ayuda de cada módulo podemos resolver el ejercicio,asi quedó el programa principal"
   ]
  },
  {
   "cell_type": "code",
   "execution_count": null,
   "metadata": {},
   "outputs": [],
   "source": [
    "arrAlumnos = armarEstructura() \n",
    "\n",
    "prom = sacarPromedio(arrAlumnos)\n",
    "print(f'Promedio de notas totales = {prom} ')\n",
    "\n",
    "printearMenoresAlPromedio(arrAlumnos,prom)\n"
   ]
  },
  {
   "cell_type": "markdown",
   "metadata": {},
   "source": [
    "Decidi dejar el prom como variable ya que puede ser útil fuera del módulo, sin embargo tambien podría dejar el print adentro del modulo sacar promedio y dentro del mismo llamar al procedimiento que imprime todos los menores al promedio."
   ]
  },
  {
   "cell_type": "code",
   "execution_count": null,
   "metadata": {},
   "outputs": [],
   "source": [
    "print('Muchas Gracias profes, muy buena práctica , nos vemos')\n",
    "nota = input('Ingrese la nota obtenida del alumno Iñaki Lapeyre : ')"
   ]
  }
 ],
 "metadata": {
  "interpreter": {
   "hash": "2be5faf79681da6f2a61fdfdd5405d65d042280f7fba6178067603e3a2925119"
  },
  "kernelspec": {
   "display_name": "Python 3.10.0 64-bit",
   "language": "python",
   "name": "python3"
  },
  "language_info": {
   "codemirror_mode": {
    "name": "ipython",
    "version": 3
   },
   "file_extension": ".py",
   "mimetype": "text/x-python",
   "name": "python",
   "nbconvert_exporter": "python",
   "pygments_lexer": "ipython3",
   "version": "3.10.2"
  },
  "orig_nbformat": 4
 },
 "nbformat": 4,
 "nbformat_minor": 2
}
